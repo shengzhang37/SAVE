{
 "cells": [
  {
   "attachments": {},
   "cell_type": "markdown",
   "metadata": {},
   "source": [
    "### Run the Experiment"
   ]
  },
  {
   "attachments": {},
   "cell_type": "markdown",
   "metadata": {},
   "source": [
    "### (1) Experiment for Value inference for fixed initial state under behavior policy "
   ]
  },
  {
   "cell_type": "code",
   "execution_count": 15,
   "metadata": {},
   "outputs": [],
   "source": [
    "## ~ 1mins for N = 3, N = 50 is used in paper\n",
    "from src.exp import main_get_value, main\n",
    "main_get_value(rep = 100000) \n",
    "main(N = 3) \n"
   ]
  },
  {
   "attachments": {},
   "cell_type": "markdown",
   "metadata": {},
   "source": [
    "### (2)  Experiment for Value inference for integrated initial state under behavior policy"
   ]
  },
  {
   "cell_type": "code",
   "execution_count": 14,
   "metadata": {},
   "outputs": [],
   "source": [
    "##  ~ 5mins for N = 3\n",
    "from src.exp_int import main_get_value, main\n",
    "main_get_value(rep = 100000) # get the true value estimation by MC repetition, run once \n",
    "main(N = 3) "
   ]
  },
  {
   "attachments": {},
   "cell_type": "markdown",
   "metadata": {},
   "source": [
    "### (3)  Experiment for Value inference for fixed initial state under estimated policy"
   ]
  },
  {
   "cell_type": "code",
   "execution_count": 13,
   "metadata": {},
   "outputs": [],
   "source": [
    "## ~ 5mins for N = 3\n",
    "from src.exp_est_pol import off_policy_value, main\n",
    "off_policy_value()      # ~30 mins. obtain true value for estimated optimal policy by MC repetitions, provided in output folder, skip it for quick check\n",
    "main(T = 60, n = 50, T_min = 30, n_min = 25, N = 3) \n"
   ]
  },
  {
   "attachments": {},
   "cell_type": "markdown",
   "metadata": {},
   "source": [
    "### (4) Experiment for Value inference for integrated initial state under estimated policy"
   ]
  },
  {
   "cell_type": "code",
   "execution_count": 12,
   "metadata": {},
   "outputs": [],
   "source": [
    "from src.exp_est_pol_int import *\n",
    "\n",
    "T = 30\n",
    "n = 25\n",
    "n_train = 25\n",
    "train_opt_policy(T = T, n = n, n_train = n_train, error_bound = 0.005, terminate_bound = 15) \n",
    "main_get_value(T_List = [50], rep = 10000, filename_train = 'train_opt_policy_with_T_%d_n_%d' %(T, n))  # ～ 5 mins\n",
    "main(N = 1) ## 5 mins for N = 1\n"
   ]
  }
 ],
 "metadata": {
  "kernelspec": {
   "display_name": "Python 3",
   "language": "python",
   "name": "python3"
  },
  "language_info": {
   "codemirror_mode": {
    "name": "ipython",
    "version": 3
   },
   "file_extension": ".py",
   "mimetype": "text/x-python",
   "name": "python",
   "nbconvert_exporter": "python",
   "pygments_lexer": "ipython3",
   "version": "3.8.8"
  },
  "orig_nbformat": 4,
  "vscode": {
   "interpreter": {
    "hash": "4b8e647a79df62bf31906a725b05de775d285962ac600487339d38c51a5c07b1"
   }
  }
 },
 "nbformat": 4,
 "nbformat_minor": 2
}
